{
 "cells": [
  {
   "cell_type": "code",
   "execution_count": 1,
   "metadata": {
    "collapsed": true
   },
   "outputs": [],
   "source": [
    "import cv2\n",
    "import numpy as np\n",
    "import pandas as pd\n",
    "import glob\n",
    "import matplotlib.pyplot as plt\n",
    "%matplotlib inline"
   ]
  },
  {
   "cell_type": "code",
   "execution_count": 2,
   "metadata": {
    "collapsed": true
   },
   "outputs": [],
   "source": [
    "train_data = [image for image in glob.glob('../Data/train/*jpg')]\n",
    "test_data = [image for image in glob.glob('../Data/train/*jpg')]"
   ]
  },
  {
   "cell_type": "code",
   "execution_count": null,
   "metadata": {
    "collapsed": false
   },
   "outputs": [],
   "source": [
    "im_width = 64\n",
    "im_height = 64\n",
    "labels = []\n",
    "images = np.zeros((25000,64,64,3))\n",
    "for idx, image_path in enumerate(train_data):\n",
    "    img = cv2.imread(image_path)\n",
    "    img = cv2.resize(img, (im_width, im_height))\n",
    "    images[idx,:,:,:] = img\n",
    "    if 'cat' in image_path:\n",
    "        labels.append(0)\n",
    "    else:\n",
    "        labels.append(1)"
   ]
  },
  {
   "cell_type": "code",
   "execution_count": 4,
   "metadata": {
    "collapsed": false
   },
   "outputs": [],
   "source": [
    "labels = np.array(labels)"
   ]
  },
  {
   "cell_type": "code",
   "execution_count": 5,
   "metadata": {
    "collapsed": false
   },
   "outputs": [],
   "source": [
    "images = np.swapaxes(images, 1, 3)\n",
    "images = np.swapaxes(images, 2, 3)"
   ]
  },
  {
   "cell_type": "code",
   "execution_count": null,
   "metadata": {
    "collapsed": true
   },
   "outputs": [],
   "source": []
  },
  {
   "cell_type": "code",
   "execution_count": null,
   "metadata": {
    "collapsed": false
   },
   "outputs": [],
   "source": [
    "from keras.models import Sequential\n",
    "from keras.layers import Dense, Dropout, Activation, Convolution2D, MaxPooling2D, Flatten\n",
    "from keras.optimizers import SGD"
   ]
  },
  {
   "cell_type": "code",
   "execution_count": null,
   "metadata": {
    "collapsed": false
   },
   "outputs": [],
   "source": [
    "model = Sequential()\n",
    "\n",
    "\n",
    "model.add(Convolution2D(64,3,3, border_mode='valid', input_shape=(3, 64, 64), activation='relu'))\n",
    "model.add(Convolution2D(64,3,3, border_mode='valid', activation='relu'))\n",
    "model.add(MaxPooling2D(pool_size=(2,2), strides = (2,2)))\n",
    "\n",
    "model.add(Convolution2D(128,3,3, border_mode='valid', activation='relu'))\n",
    "model.add(Convolution2D(128,3,3, border_mode='valid', activation='relu'))\n",
    "model.add(MaxPooling2D(pool_size=(2,2), strides = (2,2)))\n",
    "\n",
    "model.add(Convolution2D(256,3,3, border_mode='valid', activation='relu'))\n",
    "model.add(Convolution2D(256,3,3, border_mode='valid', activation='relu'))\n",
    "model.add(MaxPooling2D(pool_size=(2,2), strides = (2,2)))\n",
    "\n",
    "model.add(Flatten())\n",
    "model.add(Dense(1000, activation='relu'))\n",
    "model.add(Dropout(0.25))\n",
    "model.add(Dense(500, activation='relu'))\n",
    "model.add(Dropout(0.25))\n",
    "\n",
    "model.add(Dense(1, activation = 'softmax'))\n",
    "\n"
   ]
  },
  {
   "cell_type": "code",
   "execution_count": null,
   "metadata": {
    "collapsed": false
   },
   "outputs": [],
   "source": [
    "model.compile(optimizer=SGD(lr = 0.01, nesterov=True, momentum = 0.9, decay = 1e10-6), loss = 'binary_crossentropy')"
   ]
  },
  {
   "cell_type": "code",
   "execution_count": null,
   "metadata": {
    "collapsed": false
   },
   "outputs": [],
   "source": [
    "model.fit(images, labels, validation_split = 0.2)"
   ]
  },
  {
   "cell_type": "code",
   "execution_count": null,
   "metadata": {
    "collapsed": false
   },
   "outputs": [],
   "source": [
    "images[2].shape"
   ]
  },
  {
   "cell_type": "code",
   "execution_count": null,
   "metadata": {
    "collapsed": true
   },
   "outputs": [],
   "source": []
  }
 ],
 "metadata": {
  "anaconda-cloud": {},
  "kernelspec": {
   "display_name": "Python 2",
   "language": "python",
   "name": "python2"
  },
  "language_info": {
   "codemirror_mode": {
    "name": "ipython",
    "version": 2
   },
   "file_extension": ".py",
   "mimetype": "text/x-python",
   "name": "python",
   "nbconvert_exporter": "python",
   "pygments_lexer": "ipython2",
   "version": "2.7.12"
  }
 },
 "nbformat": 4,
 "nbformat_minor": 1
}
